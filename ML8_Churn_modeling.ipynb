{
 "cells": [
  {
   "cell_type": "code",
   "execution_count": 1,
   "metadata": {
    "id": "atw2Xac9I0xl"
   },
   "outputs": [],
   "source": [
    "import numpy as np\n",
    "import matplotlib.pyplot as plt\n",
    "import pandas as pd\n",
    "import seaborn as sns\n",
    "sns.set()"
   ]
  },
  {
   "cell_type": "code",
   "execution_count": 2,
   "metadata": {
    "colab": {
     "base_uri": "https://localhost:8080/",
     "height": 302
    },
    "id": "NPfi2q75I0xl",
    "outputId": "1f049900-3b13-433a-fa05-c439e3d9c2de"
   },
   "outputs": [
    {
     "data": {
      "text/html": [
       "<div>\n",
       "<style scoped>\n",
       "    .dataframe tbody tr th:only-of-type {\n",
       "        vertical-align: middle;\n",
       "    }\n",
       "\n",
       "    .dataframe tbody tr th {\n",
       "        vertical-align: top;\n",
       "    }\n",
       "\n",
       "    .dataframe thead th {\n",
       "        text-align: right;\n",
       "    }\n",
       "</style>\n",
       "<table border=\"1\" class=\"dataframe\">\n",
       "  <thead>\n",
       "    <tr style=\"text-align: right;\">\n",
       "      <th></th>\n",
       "      <th>CustomerId</th>\n",
       "      <th>Surname</th>\n",
       "      <th>CreditScore</th>\n",
       "      <th>Geography</th>\n",
       "      <th>Gender</th>\n",
       "      <th>Age</th>\n",
       "      <th>Tenure</th>\n",
       "      <th>Balance</th>\n",
       "      <th>NumOfProducts</th>\n",
       "      <th>HasCrCard</th>\n",
       "      <th>IsActiveMember</th>\n",
       "      <th>EstimatedSalary</th>\n",
       "      <th>Exited</th>\n",
       "    </tr>\n",
       "    <tr>\n",
       "      <th>RowNumber</th>\n",
       "      <th></th>\n",
       "      <th></th>\n",
       "      <th></th>\n",
       "      <th></th>\n",
       "      <th></th>\n",
       "      <th></th>\n",
       "      <th></th>\n",
       "      <th></th>\n",
       "      <th></th>\n",
       "      <th></th>\n",
       "      <th></th>\n",
       "      <th></th>\n",
       "      <th></th>\n",
       "    </tr>\n",
       "  </thead>\n",
       "  <tbody>\n",
       "    <tr>\n",
       "      <th>1</th>\n",
       "      <td>15634602</td>\n",
       "      <td>Hargrave</td>\n",
       "      <td>619</td>\n",
       "      <td>France</td>\n",
       "      <td>Female</td>\n",
       "      <td>42</td>\n",
       "      <td>2</td>\n",
       "      <td>0.00</td>\n",
       "      <td>1</td>\n",
       "      <td>1</td>\n",
       "      <td>1</td>\n",
       "      <td>101348.88</td>\n",
       "      <td>1</td>\n",
       "    </tr>\n",
       "    <tr>\n",
       "      <th>2</th>\n",
       "      <td>15647311</td>\n",
       "      <td>Hill</td>\n",
       "      <td>608</td>\n",
       "      <td>Spain</td>\n",
       "      <td>Female</td>\n",
       "      <td>41</td>\n",
       "      <td>1</td>\n",
       "      <td>83807.86</td>\n",
       "      <td>1</td>\n",
       "      <td>0</td>\n",
       "      <td>1</td>\n",
       "      <td>112542.58</td>\n",
       "      <td>0</td>\n",
       "    </tr>\n",
       "    <tr>\n",
       "      <th>3</th>\n",
       "      <td>15619304</td>\n",
       "      <td>Onio</td>\n",
       "      <td>502</td>\n",
       "      <td>France</td>\n",
       "      <td>Female</td>\n",
       "      <td>42</td>\n",
       "      <td>8</td>\n",
       "      <td>159660.80</td>\n",
       "      <td>3</td>\n",
       "      <td>1</td>\n",
       "      <td>0</td>\n",
       "      <td>113931.57</td>\n",
       "      <td>1</td>\n",
       "    </tr>\n",
       "    <tr>\n",
       "      <th>4</th>\n",
       "      <td>15701354</td>\n",
       "      <td>Boni</td>\n",
       "      <td>699</td>\n",
       "      <td>France</td>\n",
       "      <td>Female</td>\n",
       "      <td>39</td>\n",
       "      <td>1</td>\n",
       "      <td>0.00</td>\n",
       "      <td>2</td>\n",
       "      <td>0</td>\n",
       "      <td>0</td>\n",
       "      <td>93826.63</td>\n",
       "      <td>0</td>\n",
       "    </tr>\n",
       "    <tr>\n",
       "      <th>5</th>\n",
       "      <td>15737888</td>\n",
       "      <td>Mitchell</td>\n",
       "      <td>850</td>\n",
       "      <td>Spain</td>\n",
       "      <td>Female</td>\n",
       "      <td>43</td>\n",
       "      <td>2</td>\n",
       "      <td>125510.82</td>\n",
       "      <td>1</td>\n",
       "      <td>1</td>\n",
       "      <td>1</td>\n",
       "      <td>79084.10</td>\n",
       "      <td>0</td>\n",
       "    </tr>\n",
       "  </tbody>\n",
       "</table>\n",
       "</div>"
      ],
      "text/plain": [
       "           CustomerId   Surname  CreditScore Geography  Gender  Age  Tenure  \\\n",
       "RowNumber                                                                     \n",
       "1            15634602  Hargrave          619    France  Female   42       2   \n",
       "2            15647311      Hill          608     Spain  Female   41       1   \n",
       "3            15619304      Onio          502    France  Female   42       8   \n",
       "4            15701354      Boni          699    France  Female   39       1   \n",
       "5            15737888  Mitchell          850     Spain  Female   43       2   \n",
       "\n",
       "             Balance  NumOfProducts  HasCrCard  IsActiveMember  \\\n",
       "RowNumber                                                        \n",
       "1               0.00              1          1               1   \n",
       "2           83807.86              1          0               1   \n",
       "3          159660.80              3          1               0   \n",
       "4               0.00              2          0               0   \n",
       "5          125510.82              1          1               1   \n",
       "\n",
       "           EstimatedSalary  Exited  \n",
       "RowNumber                           \n",
       "1                101348.88       1  \n",
       "2                112542.58       0  \n",
       "3                113931.57       1  \n",
       "4                 93826.63       0  \n",
       "5                 79084.10       0  "
      ]
     },
     "execution_count": 2,
     "metadata": {},
     "output_type": "execute_result"
    }
   ],
   "source": [
    "df = pd.read_csv('Churn_Modelling.csv', index_col = 'RowNumber')\n",
    "df.head()\n"
   ]
  },
  {
   "cell_type": "markdown",
   "metadata": {
    "id": "DKwFc-HWI0xo"
   },
   "source": [
    "We are treating countries with ordinal values(0 < 1 < 2) but they are incomparable.\n",
    "To solve this we can use one hot encoding.\n",
    "We will perform some standardization "
   ]
  },
  {
   "cell_type": "code",
   "execution_count": 3,
   "metadata": {},
   "outputs": [
    {
     "data": {
      "text/html": [
       "<div>\n",
       "<style scoped>\n",
       "    .dataframe tbody tr th:only-of-type {\n",
       "        vertical-align: middle;\n",
       "    }\n",
       "\n",
       "    .dataframe tbody tr th {\n",
       "        vertical-align: top;\n",
       "    }\n",
       "\n",
       "    .dataframe thead th {\n",
       "        text-align: right;\n",
       "    }\n",
       "</style>\n",
       "<table border=\"1\" class=\"dataframe\">\n",
       "  <thead>\n",
       "    <tr style=\"text-align: right;\">\n",
       "      <th></th>\n",
       "      <th>CreditScore</th>\n",
       "      <th>Age</th>\n",
       "      <th>Tenure</th>\n",
       "      <th>Balance</th>\n",
       "      <th>NumOfProducts</th>\n",
       "      <th>HasCrCard</th>\n",
       "      <th>IsActiveMember</th>\n",
       "      <th>EstimatedSalary</th>\n",
       "      <th>Exited</th>\n",
       "      <th>Germany</th>\n",
       "      <th>Spain</th>\n",
       "      <th>Female</th>\n",
       "      <th>Male</th>\n",
       "    </tr>\n",
       "    <tr>\n",
       "      <th>RowNumber</th>\n",
       "      <th></th>\n",
       "      <th></th>\n",
       "      <th></th>\n",
       "      <th></th>\n",
       "      <th></th>\n",
       "      <th></th>\n",
       "      <th></th>\n",
       "      <th></th>\n",
       "      <th></th>\n",
       "      <th></th>\n",
       "      <th></th>\n",
       "      <th></th>\n",
       "      <th></th>\n",
       "    </tr>\n",
       "  </thead>\n",
       "  <tbody>\n",
       "    <tr>\n",
       "      <th>1</th>\n",
       "      <td>619</td>\n",
       "      <td>42</td>\n",
       "      <td>2</td>\n",
       "      <td>0.00</td>\n",
       "      <td>1</td>\n",
       "      <td>1</td>\n",
       "      <td>1</td>\n",
       "      <td>101348.88</td>\n",
       "      <td>1</td>\n",
       "      <td>0</td>\n",
       "      <td>0</td>\n",
       "      <td>1</td>\n",
       "      <td>0</td>\n",
       "    </tr>\n",
       "    <tr>\n",
       "      <th>2</th>\n",
       "      <td>608</td>\n",
       "      <td>41</td>\n",
       "      <td>1</td>\n",
       "      <td>83807.86</td>\n",
       "      <td>1</td>\n",
       "      <td>0</td>\n",
       "      <td>1</td>\n",
       "      <td>112542.58</td>\n",
       "      <td>0</td>\n",
       "      <td>0</td>\n",
       "      <td>1</td>\n",
       "      <td>1</td>\n",
       "      <td>0</td>\n",
       "    </tr>\n",
       "    <tr>\n",
       "      <th>3</th>\n",
       "      <td>502</td>\n",
       "      <td>42</td>\n",
       "      <td>8</td>\n",
       "      <td>159660.80</td>\n",
       "      <td>3</td>\n",
       "      <td>1</td>\n",
       "      <td>0</td>\n",
       "      <td>113931.57</td>\n",
       "      <td>1</td>\n",
       "      <td>0</td>\n",
       "      <td>0</td>\n",
       "      <td>1</td>\n",
       "      <td>0</td>\n",
       "    </tr>\n",
       "    <tr>\n",
       "      <th>4</th>\n",
       "      <td>699</td>\n",
       "      <td>39</td>\n",
       "      <td>1</td>\n",
       "      <td>0.00</td>\n",
       "      <td>2</td>\n",
       "      <td>0</td>\n",
       "      <td>0</td>\n",
       "      <td>93826.63</td>\n",
       "      <td>0</td>\n",
       "      <td>0</td>\n",
       "      <td>0</td>\n",
       "      <td>1</td>\n",
       "      <td>0</td>\n",
       "    </tr>\n",
       "    <tr>\n",
       "      <th>5</th>\n",
       "      <td>850</td>\n",
       "      <td>43</td>\n",
       "      <td>2</td>\n",
       "      <td>125510.82</td>\n",
       "      <td>1</td>\n",
       "      <td>1</td>\n",
       "      <td>1</td>\n",
       "      <td>79084.10</td>\n",
       "      <td>0</td>\n",
       "      <td>0</td>\n",
       "      <td>1</td>\n",
       "      <td>1</td>\n",
       "      <td>0</td>\n",
       "    </tr>\n",
       "  </tbody>\n",
       "</table>\n",
       "</div>"
      ],
      "text/plain": [
       "           CreditScore  Age  Tenure    Balance  NumOfProducts  HasCrCard  \\\n",
       "RowNumber                                                                  \n",
       "1                  619   42       2       0.00              1          1   \n",
       "2                  608   41       1   83807.86              1          0   \n",
       "3                  502   42       8  159660.80              3          1   \n",
       "4                  699   39       1       0.00              2          0   \n",
       "5                  850   43       2  125510.82              1          1   \n",
       "\n",
       "           IsActiveMember  EstimatedSalary  Exited  Germany  Spain  Female  \\\n",
       "RowNumber                                                                    \n",
       "1                       1        101348.88       1        0      0       1   \n",
       "2                       1        112542.58       0        0      1       1   \n",
       "3                       0        113931.57       1        0      0       1   \n",
       "4                       0         93826.63       0        0      0       1   \n",
       "5                       1         79084.10       0        0      1       1   \n",
       "\n",
       "           Male  \n",
       "RowNumber        \n",
       "1             0  \n",
       "2             0  \n",
       "3             0  \n",
       "4             0  \n",
       "5             0  "
      ]
     },
     "execution_count": 3,
     "metadata": {},
     "output_type": "execute_result"
    }
   ],
   "source": [
    "geography = pd.get_dummies(df['Geography'],drop_first=True).astype(int)\n",
    "gender = pd.get_dummies(df['Gender']).astype(int)\n",
    "\n",
    "df = pd.concat([df,geography,gender], axis = 1)\n",
    "\n",
    "df = df.drop(['Geography','Gender','Surname','CustomerId'],axis=1)\n",
    "df.head()"
   ]
  },
  {
   "cell_type": "code",
   "execution_count": 4,
   "metadata": {},
   "outputs": [],
   "source": [
    "X = df.drop('Exited',axis=1)\n",
    "Y = df['Exited']"
   ]
  },
  {
   "cell_type": "code",
   "execution_count": 5,
   "metadata": {
    "id": "7_TO_-fQI0xp"
   },
   "outputs": [],
   "source": [
    "from sklearn.preprocessing import StandardScaler\n",
    "#Standardize the features\n",
    "scaler = StandardScaler()\n",
    "X = scaler.fit_transform(X)"
   ]
  },
  {
   "cell_type": "code",
   "execution_count": 6,
   "metadata": {},
   "outputs": [
    {
     "name": "stdout",
     "output_type": "stream",
     "text": [
      "[-1.22584767  0.11735002  1.33305335 -1.22584767  0.7857279   0.59732859\n",
      " -1.22584767  0.61801895  1.05082029  0.93146336]\n"
     ]
    }
   ],
   "source": [
    "print(X[0:10,3])"
   ]
  },
  {
   "cell_type": "code",
   "execution_count": 7,
   "metadata": {
    "id": "OJ7VUetiI0xq"
   },
   "outputs": [],
   "source": [
    "#Spilt the data\n",
    "from sklearn.model_selection import train_test_split\n",
    "X_train, X_test, y_train, y_test = train_test_split(X, Y, test_size = 0.2, random_state = 0)"
   ]
  },
  {
   "cell_type": "code",
   "execution_count": 8,
   "metadata": {
    "id": "mX35INUFI0xr"
   },
   "outputs": [],
   "source": [
    "#Let us create the Neural Network\n",
    "from keras.models import Sequential\n",
    "from keras.layers import Dense, Dropout"
   ]
  },
  {
   "cell_type": "code",
   "execution_count": 9,
   "metadata": {
    "id": "VYIsyqOUI0xs"
   },
   "outputs": [
    {
     "name": "stderr",
     "output_type": "stream",
     "text": [
      "/home/sr2m/.local/lib/python3.12/site-packages/keras/src/layers/core/dense.py:87: UserWarning: Do not pass an `input_shape`/`input_dim` argument to a layer. When using Sequential models, prefer using an `Input(shape)` object as the first layer in the model instead.\n",
      "  super().__init__(activity_regularizer=activity_regularizer, **kwargs)\n"
     ]
    }
   ],
   "source": [
    "#Initialize ANN\n",
    "classifier = Sequential([\n",
    "    Dense(6, activation = 'relu', input_shape = (X_train.shape[1],)),\n",
    "    Dropout(rate = 0.1),\n",
    "    Dense(6, activation = 'relu'),\n",
    "    Dropout(rate = 0.1),\n",
    "    Dense(1, activation = 'sigmoid')\n",
    "])"
   ]
  },
  {
   "cell_type": "code",
   "execution_count": 10,
   "metadata": {
    "colab": {
     "base_uri": "https://localhost:8080/"
    },
    "id": "5rodKUhIQUWH",
    "outputId": "a8dd63ea-6662-41f3-a43b-4f3f4567a06d"
   },
   "outputs": [
    {
     "data": {
      "text/html": [
       "<pre style=\"white-space:pre;overflow-x:auto;line-height:normal;font-family:Menlo,'DejaVu Sans Mono',consolas,'Courier New',monospace\"><span style=\"font-weight: bold\">Model: \"sequential\"</span>\n",
       "</pre>\n"
      ],
      "text/plain": [
       "\u001b[1mModel: \"sequential\"\u001b[0m\n"
      ]
     },
     "metadata": {},
     "output_type": "display_data"
    },
    {
     "data": {
      "text/html": [
       "<pre style=\"white-space:pre;overflow-x:auto;line-height:normal;font-family:Menlo,'DejaVu Sans Mono',consolas,'Courier New',monospace\">┏━━━━━━━━━━━━━━━━━━━━━━━━━━━━━━━━━┳━━━━━━━━━━━━━━━━━━━━━━━━┳━━━━━━━━━━━━━━━┓\n",
       "┃<span style=\"font-weight: bold\"> Layer (type)                    </span>┃<span style=\"font-weight: bold\"> Output Shape           </span>┃<span style=\"font-weight: bold\">       Param # </span>┃\n",
       "┡━━━━━━━━━━━━━━━━━━━━━━━━━━━━━━━━━╇━━━━━━━━━━━━━━━━━━━━━━━━╇━━━━━━━━━━━━━━━┩\n",
       "│ dense (<span style=\"color: #0087ff; text-decoration-color: #0087ff\">Dense</span>)                   │ (<span style=\"color: #00d7ff; text-decoration-color: #00d7ff\">None</span>, <span style=\"color: #00af00; text-decoration-color: #00af00\">6</span>)              │            <span style=\"color: #00af00; text-decoration-color: #00af00\">78</span> │\n",
       "├─────────────────────────────────┼────────────────────────┼───────────────┤\n",
       "│ dropout (<span style=\"color: #0087ff; text-decoration-color: #0087ff\">Dropout</span>)               │ (<span style=\"color: #00d7ff; text-decoration-color: #00d7ff\">None</span>, <span style=\"color: #00af00; text-decoration-color: #00af00\">6</span>)              │             <span style=\"color: #00af00; text-decoration-color: #00af00\">0</span> │\n",
       "├─────────────────────────────────┼────────────────────────┼───────────────┤\n",
       "│ dense_1 (<span style=\"color: #0087ff; text-decoration-color: #0087ff\">Dense</span>)                 │ (<span style=\"color: #00d7ff; text-decoration-color: #00d7ff\">None</span>, <span style=\"color: #00af00; text-decoration-color: #00af00\">6</span>)              │            <span style=\"color: #00af00; text-decoration-color: #00af00\">42</span> │\n",
       "├─────────────────────────────────┼────────────────────────┼───────────────┤\n",
       "│ dropout_1 (<span style=\"color: #0087ff; text-decoration-color: #0087ff\">Dropout</span>)             │ (<span style=\"color: #00d7ff; text-decoration-color: #00d7ff\">None</span>, <span style=\"color: #00af00; text-decoration-color: #00af00\">6</span>)              │             <span style=\"color: #00af00; text-decoration-color: #00af00\">0</span> │\n",
       "├─────────────────────────────────┼────────────────────────┼───────────────┤\n",
       "│ dense_2 (<span style=\"color: #0087ff; text-decoration-color: #0087ff\">Dense</span>)                 │ (<span style=\"color: #00d7ff; text-decoration-color: #00d7ff\">None</span>, <span style=\"color: #00af00; text-decoration-color: #00af00\">1</span>)              │             <span style=\"color: #00af00; text-decoration-color: #00af00\">7</span> │\n",
       "└─────────────────────────────────┴────────────────────────┴───────────────┘\n",
       "</pre>\n"
      ],
      "text/plain": [
       "┏━━━━━━━━━━━━━━━━━━━━━━━━━━━━━━━━━┳━━━━━━━━━━━━━━━━━━━━━━━━┳━━━━━━━━━━━━━━━┓\n",
       "┃\u001b[1m \u001b[0m\u001b[1mLayer (type)                   \u001b[0m\u001b[1m \u001b[0m┃\u001b[1m \u001b[0m\u001b[1mOutput Shape          \u001b[0m\u001b[1m \u001b[0m┃\u001b[1m \u001b[0m\u001b[1m      Param #\u001b[0m\u001b[1m \u001b[0m┃\n",
       "┡━━━━━━━━━━━━━━━━━━━━━━━━━━━━━━━━━╇━━━━━━━━━━━━━━━━━━━━━━━━╇━━━━━━━━━━━━━━━┩\n",
       "│ dense (\u001b[38;5;33mDense\u001b[0m)                   │ (\u001b[38;5;45mNone\u001b[0m, \u001b[38;5;34m6\u001b[0m)              │            \u001b[38;5;34m78\u001b[0m │\n",
       "├─────────────────────────────────┼────────────────────────┼───────────────┤\n",
       "│ dropout (\u001b[38;5;33mDropout\u001b[0m)               │ (\u001b[38;5;45mNone\u001b[0m, \u001b[38;5;34m6\u001b[0m)              │             \u001b[38;5;34m0\u001b[0m │\n",
       "├─────────────────────────────────┼────────────────────────┼───────────────┤\n",
       "│ dense_1 (\u001b[38;5;33mDense\u001b[0m)                 │ (\u001b[38;5;45mNone\u001b[0m, \u001b[38;5;34m6\u001b[0m)              │            \u001b[38;5;34m42\u001b[0m │\n",
       "├─────────────────────────────────┼────────────────────────┼───────────────┤\n",
       "│ dropout_1 (\u001b[38;5;33mDropout\u001b[0m)             │ (\u001b[38;5;45mNone\u001b[0m, \u001b[38;5;34m6\u001b[0m)              │             \u001b[38;5;34m0\u001b[0m │\n",
       "├─────────────────────────────────┼────────────────────────┼───────────────┤\n",
       "│ dense_2 (\u001b[38;5;33mDense\u001b[0m)                 │ (\u001b[38;5;45mNone\u001b[0m, \u001b[38;5;34m1\u001b[0m)              │             \u001b[38;5;34m7\u001b[0m │\n",
       "└─────────────────────────────────┴────────────────────────┴───────────────┘\n"
      ]
     },
     "metadata": {},
     "output_type": "display_data"
    },
    {
     "data": {
      "text/html": [
       "<pre style=\"white-space:pre;overflow-x:auto;line-height:normal;font-family:Menlo,'DejaVu Sans Mono',consolas,'Courier New',monospace\"><span style=\"font-weight: bold\"> Total params: </span><span style=\"color: #00af00; text-decoration-color: #00af00\">127</span> (508.00 B)\n",
       "</pre>\n"
      ],
      "text/plain": [
       "\u001b[1m Total params: \u001b[0m\u001b[38;5;34m127\u001b[0m (508.00 B)\n"
      ]
     },
     "metadata": {},
     "output_type": "display_data"
    },
    {
     "data": {
      "text/html": [
       "<pre style=\"white-space:pre;overflow-x:auto;line-height:normal;font-family:Menlo,'DejaVu Sans Mono',consolas,'Courier New',monospace\"><span style=\"font-weight: bold\"> Trainable params: </span><span style=\"color: #00af00; text-decoration-color: #00af00\">127</span> (508.00 B)\n",
       "</pre>\n"
      ],
      "text/plain": [
       "\u001b[1m Trainable params: \u001b[0m\u001b[38;5;34m127\u001b[0m (508.00 B)\n"
      ]
     },
     "metadata": {},
     "output_type": "display_data"
    },
    {
     "data": {
      "text/html": [
       "<pre style=\"white-space:pre;overflow-x:auto;line-height:normal;font-family:Menlo,'DejaVu Sans Mono',consolas,'Courier New',monospace\"><span style=\"font-weight: bold\"> Non-trainable params: </span><span style=\"color: #00af00; text-decoration-color: #00af00\">0</span> (0.00 B)\n",
       "</pre>\n"
      ],
      "text/plain": [
       "\u001b[1m Non-trainable params: \u001b[0m\u001b[38;5;34m0\u001b[0m (0.00 B)\n"
      ]
     },
     "metadata": {},
     "output_type": "display_data"
    }
   ],
   "source": [
    "#Let us take a look at our network\n",
    "classifier.summary()"
   ]
  },
  {
   "cell_type": "code",
   "execution_count": 11,
   "metadata": {
    "id": "XfHGyyviSXed"
   },
   "outputs": [],
   "source": [
    "#Optimize the weights\n",
    "classifier.compile(optimizer = 'adam', loss = 'binary_crossentropy', metrics = ['accuracy'])"
   ]
  },
  {
   "cell_type": "code",
   "execution_count": 12,
   "metadata": {
    "colab": {
     "base_uri": "https://localhost:8080/"
    },
    "id": "7px7qzJQVhan",
    "outputId": "09d47fa7-684c-424c-f144-e86492bcfa24"
   },
   "outputs": [
    {
     "name": "stdout",
     "output_type": "stream",
     "text": [
      "Epoch 1/80\n",
      "225/225 - 0s - 2ms/step - accuracy: 0.7551 - loss: 0.5707 - val_accuracy: 0.7950 - val_loss: 0.4887\n",
      "Epoch 2/80\n",
      "225/225 - 0s - 391us/step - accuracy: 0.7946 - loss: 0.4916 - val_accuracy: 0.7950 - val_loss: 0.4566\n",
      "Epoch 3/80\n",
      "225/225 - 0s - 327us/step - accuracy: 0.7957 - loss: 0.4706 - val_accuracy: 0.7950 - val_loss: 0.4400\n",
      "Epoch 4/80\n",
      "225/225 - 0s - 700us/step - accuracy: 0.7960 - loss: 0.4583 - val_accuracy: 0.7950 - val_loss: 0.4308\n",
      "Epoch 5/80\n",
      "225/225 - 0s - 609us/step - accuracy: 0.7960 - loss: 0.4505 - val_accuracy: 0.7950 - val_loss: 0.4243\n",
      "Epoch 6/80\n",
      "225/225 - 0s - 594us/step - accuracy: 0.7961 - loss: 0.4484 - val_accuracy: 0.7950 - val_loss: 0.4202\n",
      "Epoch 7/80\n",
      "225/225 - 0s - 585us/step - accuracy: 0.7961 - loss: 0.4459 - val_accuracy: 0.7950 - val_loss: 0.4169\n",
      "Epoch 8/80\n",
      "225/225 - 0s - 608us/step - accuracy: 0.7961 - loss: 0.4399 - val_accuracy: 0.7950 - val_loss: 0.4150\n",
      "Epoch 9/80\n",
      "225/225 - 0s - 650us/step - accuracy: 0.7961 - loss: 0.4396 - val_accuracy: 0.7950 - val_loss: 0.4124\n",
      "Epoch 10/80\n",
      "225/225 - 0s - 547us/step - accuracy: 0.7961 - loss: 0.4386 - val_accuracy: 0.7950 - val_loss: 0.4123\n",
      "Epoch 11/80\n",
      "225/225 - 0s - 588us/step - accuracy: 0.7961 - loss: 0.4384 - val_accuracy: 0.7950 - val_loss: 0.4116\n",
      "Epoch 12/80\n",
      "225/225 - 0s - 636us/step - accuracy: 0.7961 - loss: 0.4359 - val_accuracy: 0.7950 - val_loss: 0.4105\n",
      "Epoch 13/80\n",
      "225/225 - 0s - 546us/step - accuracy: 0.7961 - loss: 0.4325 - val_accuracy: 0.7950 - val_loss: 0.4101\n",
      "Epoch 14/80\n",
      "225/225 - 0s - 631us/step - accuracy: 0.7961 - loss: 0.4340 - val_accuracy: 0.7950 - val_loss: 0.4084\n",
      "Epoch 15/80\n",
      "225/225 - 0s - 413us/step - accuracy: 0.7961 - loss: 0.4345 - val_accuracy: 0.7950 - val_loss: 0.4076\n",
      "Epoch 16/80\n",
      "225/225 - 0s - 540us/step - accuracy: 0.7961 - loss: 0.4311 - val_accuracy: 0.7950 - val_loss: 0.4072\n",
      "Epoch 17/80\n",
      "225/225 - 0s - 266us/step - accuracy: 0.7961 - loss: 0.4326 - val_accuracy: 0.7950 - val_loss: 0.4059\n",
      "Epoch 18/80\n",
      "225/225 - 0s - 261us/step - accuracy: 0.7961 - loss: 0.4349 - val_accuracy: 0.7950 - val_loss: 0.4059\n",
      "Epoch 19/80\n",
      "225/225 - 0s - 387us/step - accuracy: 0.7960 - loss: 0.4351 - val_accuracy: 0.7950 - val_loss: 0.4052\n",
      "Epoch 20/80\n",
      "225/225 - 0s - 484us/step - accuracy: 0.7960 - loss: 0.4322 - val_accuracy: 0.7950 - val_loss: 0.4055\n",
      "Epoch 21/80\n",
      "225/225 - 0s - 365us/step - accuracy: 0.7961 - loss: 0.4343 - val_accuracy: 0.7950 - val_loss: 0.4038\n",
      "Epoch 22/80\n",
      "225/225 - 0s - 348us/step - accuracy: 0.7961 - loss: 0.4303 - val_accuracy: 0.7950 - val_loss: 0.4040\n",
      "Epoch 23/80\n",
      "225/225 - 0s - 332us/step - accuracy: 0.7961 - loss: 0.4318 - val_accuracy: 0.7950 - val_loss: 0.4050\n",
      "Epoch 24/80\n",
      "225/225 - 0s - 264us/step - accuracy: 0.7961 - loss: 0.4311 - val_accuracy: 0.7950 - val_loss: 0.4029\n",
      "Epoch 25/80\n",
      "225/225 - 0s - 277us/step - accuracy: 0.7961 - loss: 0.4329 - val_accuracy: 0.7950 - val_loss: 0.4029\n",
      "Epoch 26/80\n",
      "225/225 - 0s - 569us/step - accuracy: 0.7961 - loss: 0.4300 - val_accuracy: 0.7950 - val_loss: 0.4029\n",
      "Epoch 27/80\n",
      "225/225 - 0s - 618us/step - accuracy: 0.7958 - loss: 0.4321 - val_accuracy: 0.7950 - val_loss: 0.4030\n",
      "Epoch 28/80\n",
      "225/225 - 0s - 622us/step - accuracy: 0.8006 - loss: 0.4301 - val_accuracy: 0.8313 - val_loss: 0.4026\n",
      "Epoch 29/80\n",
      "225/225 - 0s - 643us/step - accuracy: 0.8183 - loss: 0.4292 - val_accuracy: 0.8325 - val_loss: 0.4019\n",
      "Epoch 30/80\n",
      "225/225 - 0s - 571us/step - accuracy: 0.8196 - loss: 0.4298 - val_accuracy: 0.8325 - val_loss: 0.4019\n",
      "Epoch 31/80\n",
      "225/225 - 0s - 337us/step - accuracy: 0.8242 - loss: 0.4299 - val_accuracy: 0.8338 - val_loss: 0.4024\n",
      "Epoch 32/80\n",
      "225/225 - 0s - 457us/step - accuracy: 0.8236 - loss: 0.4279 - val_accuracy: 0.8325 - val_loss: 0.4012\n",
      "Epoch 33/80\n",
      "225/225 - 0s - 590us/step - accuracy: 0.8242 - loss: 0.4282 - val_accuracy: 0.8325 - val_loss: 0.4008\n",
      "Epoch 34/80\n",
      "225/225 - 0s - 591us/step - accuracy: 0.8249 - loss: 0.4281 - val_accuracy: 0.8313 - val_loss: 0.4006\n",
      "Epoch 35/80\n",
      "225/225 - 0s - 627us/step - accuracy: 0.8229 - loss: 0.4303 - val_accuracy: 0.8350 - val_loss: 0.4017\n",
      "Epoch 36/80\n",
      "225/225 - 0s - 580us/step - accuracy: 0.8264 - loss: 0.4282 - val_accuracy: 0.8350 - val_loss: 0.4017\n",
      "Epoch 37/80\n",
      "225/225 - 0s - 302us/step - accuracy: 0.8265 - loss: 0.4262 - val_accuracy: 0.8338 - val_loss: 0.3996\n",
      "Epoch 38/80\n",
      "225/225 - 0s - 520us/step - accuracy: 0.8264 - loss: 0.4289 - val_accuracy: 0.8338 - val_loss: 0.3993\n",
      "Epoch 39/80\n",
      "225/225 - 0s - 566us/step - accuracy: 0.8258 - loss: 0.4287 - val_accuracy: 0.8338 - val_loss: 0.3997\n",
      "Epoch 40/80\n",
      "225/225 - 0s - 571us/step - accuracy: 0.8250 - loss: 0.4269 - val_accuracy: 0.8363 - val_loss: 0.4017\n",
      "Epoch 41/80\n",
      "225/225 - 0s - 428us/step - accuracy: 0.8286 - loss: 0.4273 - val_accuracy: 0.8350 - val_loss: 0.3989\n",
      "Epoch 42/80\n",
      "225/225 - 0s - 550us/step - accuracy: 0.8263 - loss: 0.4280 - val_accuracy: 0.8350 - val_loss: 0.3977\n",
      "Epoch 43/80\n",
      "225/225 - 0s - 669us/step - accuracy: 0.8271 - loss: 0.4272 - val_accuracy: 0.8400 - val_loss: 0.3981\n",
      "Epoch 44/80\n",
      "225/225 - 0s - 434us/step - accuracy: 0.8267 - loss: 0.4319 - val_accuracy: 0.8400 - val_loss: 0.3996\n",
      "Epoch 45/80\n",
      "225/225 - 0s - 486us/step - accuracy: 0.8263 - loss: 0.4273 - val_accuracy: 0.8363 - val_loss: 0.3983\n",
      "Epoch 46/80\n",
      "225/225 - 0s - 550us/step - accuracy: 0.8297 - loss: 0.4246 - val_accuracy: 0.8375 - val_loss: 0.3976\n",
      "Epoch 47/80\n",
      "225/225 - 0s - 479us/step - accuracy: 0.8293 - loss: 0.4249 - val_accuracy: 0.8388 - val_loss: 0.3999\n",
      "Epoch 48/80\n",
      "225/225 - 0s - 460us/step - accuracy: 0.8283 - loss: 0.4275 - val_accuracy: 0.8363 - val_loss: 0.3968\n",
      "Epoch 49/80\n",
      "225/225 - 0s - 445us/step - accuracy: 0.8297 - loss: 0.4258 - val_accuracy: 0.8350 - val_loss: 0.3968\n",
      "Epoch 50/80\n",
      "225/225 - 0s - 356us/step - accuracy: 0.8293 - loss: 0.4250 - val_accuracy: 0.8400 - val_loss: 0.3961\n",
      "Epoch 51/80\n",
      "225/225 - 0s - 322us/step - accuracy: 0.8268 - loss: 0.4256 - val_accuracy: 0.8413 - val_loss: 0.3969\n",
      "Epoch 52/80\n",
      "225/225 - 0s - 354us/step - accuracy: 0.8267 - loss: 0.4244 - val_accuracy: 0.8388 - val_loss: 0.3946\n",
      "Epoch 53/80\n",
      "225/225 - 0s - 461us/step - accuracy: 0.8276 - loss: 0.4261 - val_accuracy: 0.8375 - val_loss: 0.3947\n",
      "Epoch 54/80\n",
      "225/225 - 0s - 361us/step - accuracy: 0.8267 - loss: 0.4278 - val_accuracy: 0.8388 - val_loss: 0.3957\n",
      "Epoch 55/80\n",
      "225/225 - 0s - 469us/step - accuracy: 0.8276 - loss: 0.4252 - val_accuracy: 0.8388 - val_loss: 0.3951\n",
      "Epoch 56/80\n",
      "225/225 - 0s - 523us/step - accuracy: 0.8268 - loss: 0.4264 - val_accuracy: 0.8388 - val_loss: 0.3946\n",
      "Epoch 57/80\n",
      "225/225 - 0s - 464us/step - accuracy: 0.8285 - loss: 0.4271 - val_accuracy: 0.8400 - val_loss: 0.3962\n",
      "Epoch 58/80\n",
      "225/225 - 0s - 320us/step - accuracy: 0.8260 - loss: 0.4236 - val_accuracy: 0.8375 - val_loss: 0.3952\n",
      "Epoch 59/80\n",
      "225/225 - 0s - 440us/step - accuracy: 0.8292 - loss: 0.4204 - val_accuracy: 0.8400 - val_loss: 0.3941\n",
      "Epoch 60/80\n",
      "225/225 - 0s - 639us/step - accuracy: 0.8304 - loss: 0.4262 - val_accuracy: 0.8400 - val_loss: 0.3946\n",
      "Epoch 61/80\n",
      "225/225 - 0s - 584us/step - accuracy: 0.8278 - loss: 0.4204 - val_accuracy: 0.8388 - val_loss: 0.3931\n",
      "Epoch 62/80\n",
      "225/225 - 0s - 635us/step - accuracy: 0.8288 - loss: 0.4247 - val_accuracy: 0.8388 - val_loss: 0.3932\n",
      "Epoch 63/80\n",
      "225/225 - 0s - 688us/step - accuracy: 0.8314 - loss: 0.4209 - val_accuracy: 0.8388 - val_loss: 0.3922\n",
      "Epoch 64/80\n",
      "225/225 - 0s - 571us/step - accuracy: 0.8299 - loss: 0.4260 - val_accuracy: 0.8375 - val_loss: 0.3927\n",
      "Epoch 65/80\n",
      "225/225 - 0s - 484us/step - accuracy: 0.8317 - loss: 0.4265 - val_accuracy: 0.8400 - val_loss: 0.3932\n",
      "Epoch 66/80\n",
      "225/225 - 0s - 602us/step - accuracy: 0.8289 - loss: 0.4245 - val_accuracy: 0.8425 - val_loss: 0.3962\n",
      "Epoch 67/80\n",
      "225/225 - 0s - 698us/step - accuracy: 0.8303 - loss: 0.4242 - val_accuracy: 0.8388 - val_loss: 0.3932\n",
      "Epoch 68/80\n",
      "225/225 - 0s - 516us/step - accuracy: 0.8292 - loss: 0.4238 - val_accuracy: 0.8400 - val_loss: 0.3926\n",
      "Epoch 69/80\n",
      "225/225 - 0s - 468us/step - accuracy: 0.8301 - loss: 0.4228 - val_accuracy: 0.8363 - val_loss: 0.3914\n",
      "Epoch 70/80\n",
      "225/225 - 0s - 406us/step - accuracy: 0.8304 - loss: 0.4231 - val_accuracy: 0.8363 - val_loss: 0.3913\n",
      "Epoch 71/80\n",
      "225/225 - 0s - 724us/step - accuracy: 0.8319 - loss: 0.4216 - val_accuracy: 0.8388 - val_loss: 0.3924\n",
      "Epoch 72/80\n",
      "225/225 - 0s - 660us/step - accuracy: 0.8300 - loss: 0.4255 - val_accuracy: 0.8400 - val_loss: 0.3929\n",
      "Epoch 73/80\n",
      "225/225 - 0s - 413us/step - accuracy: 0.8321 - loss: 0.4239 - val_accuracy: 0.8400 - val_loss: 0.3926\n",
      "Epoch 74/80\n",
      "225/225 - 0s - 523us/step - accuracy: 0.8294 - loss: 0.4255 - val_accuracy: 0.8388 - val_loss: 0.3931\n",
      "Epoch 75/80\n",
      "225/225 - 0s - 479us/step - accuracy: 0.8282 - loss: 0.4251 - val_accuracy: 0.8388 - val_loss: 0.3911\n",
      "Epoch 76/80\n",
      "225/225 - 0s - 428us/step - accuracy: 0.8292 - loss: 0.4257 - val_accuracy: 0.8400 - val_loss: 0.3924\n",
      "Epoch 77/80\n",
      "225/225 - 0s - 618us/step - accuracy: 0.8283 - loss: 0.4251 - val_accuracy: 0.8375 - val_loss: 0.3917\n",
      "Epoch 78/80\n",
      "225/225 - 0s - 534us/step - accuracy: 0.8307 - loss: 0.4269 - val_accuracy: 0.8363 - val_loss: 0.3912\n",
      "Epoch 79/80\n",
      "225/225 - 0s - 501us/step - accuracy: 0.8279 - loss: 0.4243 - val_accuracy: 0.8375 - val_loss: 0.3913\n",
      "Epoch 80/80\n",
      "225/225 - 0s - 496us/step - accuracy: 0.8299 - loss: 0.4226 - val_accuracy: 0.8400 - val_loss: 0.3929\n"
     ]
    }
   ],
   "source": [
    "#Fitting the Neural Network\n",
    "history = classifier.fit(X_train, y_train, batch_size = 32, epochs = 80, validation_split = 0.1, verbose = 2)"
   ]
  },
  {
   "cell_type": "code",
   "execution_count": 13,
   "metadata": {
    "colab": {
     "base_uri": "https://localhost:8080/"
    },
    "id": "aq1-eNM2YqL8",
    "outputId": "0fd0fa0a-cf54-4637-f8b6-f15342002a15"
   },
   "outputs": [
    {
     "name": "stdout",
     "output_type": "stream",
     "text": [
      "\u001b[1m63/63\u001b[0m \u001b[32m━━━━━━━━━━━━━━━━━━━━\u001b[0m\u001b[37m\u001b[0m \u001b[1m0s\u001b[0m 353us/step\n",
      "[[0.2828349 ]\n",
      " [0.34884498]\n",
      " [0.17538089]\n",
      " [0.08751523]\n",
      " [0.25473464]]\n"
     ]
    }
   ],
   "source": [
    "y_pred = classifier.predict(X_test)\n",
    "print(y_pred[:5])"
   ]
  },
  {
   "cell_type": "code",
   "execution_count": 14,
   "metadata": {
    "colab": {
     "base_uri": "https://localhost:8080/"
    },
    "id": "S8JJz5bLY-7I",
    "outputId": "00827497-0dfb-49c4-d70b-2071d70ae5f0"
   },
   "outputs": [
    {
     "name": "stdout",
     "output_type": "stream",
     "text": [
      "[[0]\n",
      " [0]\n",
      " [0]\n",
      " [0]\n",
      " [0]]\n"
     ]
    }
   ],
   "source": [
    "#Let us use confusion matrix with cutoff value as 0.5\n",
    "y_pred = (y_pred > 0.5).astype(int)\n",
    "print(y_pred[:5])"
   ]
  },
  {
   "cell_type": "code",
   "execution_count": 15,
   "metadata": {
    "colab": {
     "base_uri": "https://localhost:8080/"
    },
    "id": "Bcyv6h2UZPbO",
    "outputId": "6ca6b222-2516-4b03-c081-1ba7feaa6817"
   },
   "outputs": [
    {
     "name": "stdout",
     "output_type": "stream",
     "text": [
      "[[1562   33]\n",
      " [ 290  115]]\n"
     ]
    },
    {
     "data": {
      "image/png": "[encoded data removed]",
      "text/plain": [
       "<Figure size 800x600 with 2 Axes>"
      ]
     },
     "metadata": {},
     "output_type": "display_data"
    }
   ],
   "source": [
    "#Making the Matrix\n",
    "from sklearn.metrics import confusion_matrix\n",
    "cm = confusion_matrix(y_test, y_pred)\n",
    "print(cm)\n",
    "plt.figure(figsize=(8, 6))\n",
    "sns.heatmap(cm, annot=True, fmt='d', cmap='Blues', xticklabels=['Negative', 'Positive'], yticklabels=['Negative', 'Positive'])\n",
    "plt.ylabel('Actual')\n",
    "plt.xlabel('Predicted')\n",
    "plt.title('Confusion Matrix')\n",
    "plt.show()"
   ]
  },
  {
   "cell_type": "code",
   "execution_count": 16,
   "metadata": {
    "colab": {
     "base_uri": "https://localhost:8080/"
    },
    "id": "l3weViSLZc1v",
    "outputId": "64895b62-30f8-4e86-e592-d3fae20b2673"
   },
   "outputs": [
    {
     "name": "stdout",
     "output_type": "stream",
     "text": [
      "83.85 % of data was classified correctly\n"
     ]
    }
   ],
   "source": [
    "#Accuracy of our NN\n",
    "print(((cm[0][0] + cm[1][1])* 100) / len(y_test), '% of data was classified correctly')"
   ]
  },
  {
   "cell_type": "code",
   "execution_count": null,
   "metadata": {},
   "outputs": [],
   "source": []
  }
 ],
 "metadata": {
  "colab": {
   "provenance": []
  },
  "interpreter": {
   "hash": "f82e9eef39fec3b4432bd3d531b07136b7f172564442eec42315ae171445fe6f"
  },
  "kernelspec": {
   "display_name": "Python 3 (ipykernel)",
   "language": "python",
   "name": "python3"
  },
  "language_info": {
   "codemirror_mode": {
    "name": "ipython",
    "version": 3
   },
   "file_extension": ".py",
   "mimetype": "text/x-python",
   "name": "python",
   "nbconvert_exporter": "python",
   "pygments_lexer": "ipython3",
   "version": "3.12.7"
  }
 },
 "nbformat": 4,
 "nbformat_minor": 4
}
